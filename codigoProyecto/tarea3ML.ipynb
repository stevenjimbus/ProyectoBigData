{
 "cells": [
  {
   "cell_type": "markdown",
   "metadata": {
    "colab_type": "text",
    "id": "FYCK8Y-lTb3O"
   },
   "source": [
    "# Tarea 3 - Big Data\n",
    "Estudiante: Steven Jimenez\n",
    "\n"
   ]
  },
  {
   "cell_type": "markdown",
   "metadata": {
    "colab_type": "text",
    "id": "BvlqRf1PTb3R"
   },
   "source": [
    "# Datos de entrada\n",
    "\n",
    "## Dataset: Calidad del Vino\n",
    "\n",
    "El archivo winequality-red.csv contiene métricas sobre la calidad de Vinos Rojos. La intención con este dataset es predecir si un vino es de Alta Calidad o Baja Calidad, basado en el análisis de distintos features. Explícitamente:\n",
    "\n",
    "### Features\n",
    "* \"fixed_acidity\": la mayoría de los ácidos involucrados con el vino o fijos o no volátiles (no se evaporan fácilmente)\n",
    "* \"volatile_acidity\":la cantidad de ácido acético en el vino, que en niveles demasiado altos puede provocar un sabor desagradable a vinagre\n",
    "* \"citric_acid\":Encontrado en pequeñas cantidades, el ácido cítrico puede agregar 'frescura' y sabor a los vinos.\n",
    "* \"residual_sugar\": la cantidad de azúcar que queda después de que se detiene la fermentación, es raro encontrar vinos con menos de 1 gramo / litro y los vinos con más de 45 gramos / litro se consideran dulces\n",
    "* \"chlorides\": la cantidad de sal en el vino\n",
    "* \"free_sulfur_dioxide\": la forma libre del SO2 existe en equilibrio entre el SO2 molecular (como gas disuelto) y el ion bisulfito; Previene el crecimiento microbiano y la oxidación del vino.\n",
    "* \"total_sulfur_dioxide\":cantidad de formas libres y ligadas de SO2; en bajas concentraciones, el SO2 es mayormente indetectable en el vino, pero en concentraciones de SO2 libre superiores a 50 ppm, el SO2 se hace evidente en la nariz y el sabor del vino.\n",
    "* \"density\": la densidad del agua es cercana a la del agua dependiendo del porcentaje de alcohol y contenido de azúcar\n",
    "* \"pH\": describe qué tan ácido o básico es un vino en una escala de 0 (muy ácido) a 14 (muy básico); la mayoría de los vinos están entre 3-4 en la escala de pH\n",
    "* \"sulphates\": un aditivo para el vino que puede contribuir a los niveles de dióxido de azufre (SO2), que actúa como antimicrobiano y antioxidante\n",
    "* \"alcohol\":  el porcentaje de contenido de alcohol del vino\n",
    "* \"quality\": variable de salida (basada en datos sensoriales, puntuación entre 0 y 10)\n",
    "\n",
    "\n",
    "\n",
    "\n",
    "\n",
    "### Variable de predicción (Variable sintetica)\n",
    "Variable sintética, creada para cumplir el requisito de que sea un problema de clasificación binaria. \n",
    "* BinaryQuality: Si el parámetro \"quality\" es mayor a 5, se catalogará al vino como 1 (Refiriendose a Vino de Alta Calidad), de lo contrario se catalogará como 0 (Refiriendose a Vino de Baja Calidad)\n",
    "\n",
    "\n",
    "\n",
    "\n",
    "\n",
    "Dataset source:https://www.kaggle.com/uciml/red-wine-quality-cortez-et-al-2009"
   ]
  },
  {
   "cell_type": "markdown",
   "metadata": {
    "colab_type": "text",
    "id": "BvlqRf1PTb3R"
   },
   "source": [
    "#  Preprocesamiento de datos \n"
   ]
  },
  {
   "cell_type": "markdown",
   "metadata": {},
   "source": [
    "## Carga/lectura de datos (.csv) Limpieza\n",
    "\n",
    "Definición del \"schema\" y lectura del archivo .csv"
   ]
  },
  {
   "cell_type": "code",
   "execution_count": 30,
   "metadata": {
    "colab": {},
    "colab_type": "code",
    "id": "pBbCLAzXTb3S",
    "outputId": "0bf8d265-bd7c-40ee-e9cd-c5c01cbf30b7"
   },
   "outputs": [
    {
     "name": "stdout",
     "output_type": "stream",
     "text": [
      "Qty Filas: 1599\n",
      " Cantidad Columnas: 12\n",
      "root\n",
      " |-- fixed_acidity: float (nullable = true)\n",
      " |-- volatile_acidity: float (nullable = true)\n",
      " |-- citric_acid: float (nullable = true)\n",
      " |-- residual_sugar: float (nullable = true)\n",
      " |-- chlorides: float (nullable = true)\n",
      " |-- free_sulfur_dioxide: float (nullable = true)\n",
      " |-- total_sulfur_dioxide: float (nullable = true)\n",
      " |-- density: float (nullable = true)\n",
      " |-- pH: float (nullable = true)\n",
      " |-- sulphates: float (nullable = true)\n",
      " |-- alcohol: float (nullable = true)\n",
      " |-- quality: integer (nullable = true)\n",
      "\n",
      "+-------------+----------------+-----------+--------------+---------+-------------------+--------------------+-------+----+---------+-------+-------+\n",
      "|fixed_acidity|volatile_acidity|citric_acid|residual_sugar|chlorides|free_sulfur_dioxide|total_sulfur_dioxide|density|pH  |sulphates|alcohol|quality|\n",
      "+-------------+----------------+-----------+--------------+---------+-------------------+--------------------+-------+----+---------+-------+-------+\n",
      "|7.4          |0.7             |0.0        |1.9           |0.076    |11.0               |34.0                |0.9978 |3.51|0.56     |9.4    |5      |\n",
      "|7.8          |0.88            |0.0        |2.6           |0.098    |25.0               |67.0                |0.9968 |3.2 |0.68     |9.8    |5      |\n",
      "|7.8          |0.76            |0.04       |2.3           |0.092    |15.0               |54.0                |0.997  |3.26|0.65     |9.8    |5      |\n",
      "+-------------+----------------+-----------+--------------+---------+-------------------+--------------------+-------+----+---------+-------+-------+\n",
      "only showing top 3 rows\n",
      "\n"
     ]
    },
    {
     "name": "stderr",
     "output_type": "stream",
     "text": [
      "21/11/04 04:14:58 WARN CSVHeaderChecker: CSV header does not conform to the schema.\n",
      " Header: fixed acidity, volatile acidity, citric acid, residual sugar, chlorides, free sulfur dioxide, total sulfur dioxide, density, pH, sulphates, alcohol, quality\n",
      " Schema: fixed_acidity, volatile_acidity, citric_acid, residual_sugar, chlorides, free_sulfur_dioxide, total_sulfur_dioxide, density, pH, sulphates, alcohol, quality\n",
      "Expected: fixed_acidity but found: fixed acidity\n",
      "CSV file: file:///src/tarea3Jupyter/winequality-red.csv\n"
     ]
    }
   ],
   "source": [
    "# Cargar el conjunto de datos completo. Este paso no realiza ningún ajuste; simplemente lectura\n",
    "import findspark\n",
    "from pyspark.sql.functions import isnan, when, count, col\n",
    "import pandas as pd\n",
    "findspark.init('/usr/lib/python3.7/site-packages/pyspark')\n",
    "\n",
    "from pyspark.sql.types import (StringType, IntegerType, FloatType, \n",
    "                               DecimalType, StructField, StructType)\n",
    "\n",
    "from pyspark.sql import SparkSession\n",
    "\n",
    "spark = SparkSession \\\n",
    "    .builder \\\n",
    "    .appName(\"Basic JDBC pipeline\") \\\n",
    "    .config(\"spark.driver.extraClassPath\", \"postgresql-42.2.14.jar\") \\\n",
    "    .config(\"spark.executor.extraClassPath\", \"postgresql-42.2.14.jar\") \\\n",
    "    .getOrCreate()\n",
    "\n",
    "RawWine_df = spark \\\n",
    "    .read \\\n",
    "    .format(\"csv\") \\\n",
    "    .option(\"path\", \"winequality-red.csv\") \\\n",
    "    .option(\"header\", True) \\\n",
    "    .schema(StructType([\n",
    "                StructField(\"fixed_acidity\",FloatType()),\n",
    "                StructField(\"volatile_acidity\",FloatType()),\n",
    "                StructField(\"citric_acid\",FloatType()),\n",
    "                StructField(\"residual_sugar\",FloatType()),\n",
    "                StructField(\"chlorides\",FloatType()),\n",
    "                StructField(\"free_sulfur_dioxide\",FloatType()),\n",
    "                StructField(\"total_sulfur_dioxide\",FloatType()),\n",
    "                StructField(\"density\",FloatType()),\n",
    "                StructField(\"pH\",FloatType()),\n",
    "                StructField(\"sulphates\",FloatType()),\n",
    "                StructField(\"alcohol\",FloatType()),                \n",
    "                StructField(\"quality\",IntegerType())])) \\\n",
    "    .load()\n",
    "print('Qty Filas: {}\\n Cantidad Columnas: {}'.format(RawWine_df.count(), len(RawWine_df.columns)))\n",
    "RawWine_df.printSchema()\n",
    "RawWine_df.show(truncate=False,n=3)"
   ]
  },
  {
   "cell_type": "markdown",
   "metadata": {},
   "source": [
    "### Creación de variable sintética - 'BinaryQuality'"
   ]
  },
  {
   "cell_type": "code",
   "execution_count": 31,
   "metadata": {},
   "outputs": [
    {
     "name": "stdout",
     "output_type": "stream",
     "text": [
      "+-------------+----------------+-----------+--------------+---------+-------------------+--------------------+-------+----+---------+-------+-------+-------------+\n",
      "|fixed_acidity|volatile_acidity|citric_acid|residual_sugar|chlorides|free_sulfur_dioxide|total_sulfur_dioxide|density|  pH|sulphates|alcohol|quality|BinaryQuality|\n",
      "+-------------+----------------+-----------+--------------+---------+-------------------+--------------------+-------+----+---------+-------+-------+-------------+\n",
      "|          7.4|             0.7|        0.0|           1.9|    0.076|               11.0|                34.0| 0.9978|3.51|     0.56|    9.4|      5|            0|\n",
      "|          7.8|            0.88|        0.0|           2.6|    0.098|               25.0|                67.0| 0.9968| 3.2|     0.68|    9.8|      5|            0|\n",
      "|          7.8|            0.76|       0.04|           2.3|    0.092|               15.0|                54.0|  0.997|3.26|     0.65|    9.8|      5|            0|\n",
      "|         11.2|            0.28|       0.56|           1.9|    0.075|               17.0|                60.0|  0.998|3.16|     0.58|    9.8|      6|            1|\n",
      "|          7.4|             0.7|        0.0|           1.9|    0.076|               11.0|                34.0| 0.9978|3.51|     0.56|    9.4|      5|            0|\n",
      "+-------------+----------------+-----------+--------------+---------+-------------------+--------------------+-------+----+---------+-------+-------+-------------+\n",
      "only showing top 5 rows\n",
      "\n"
     ]
    },
    {
     "name": "stderr",
     "output_type": "stream",
     "text": [
      "21/11/04 04:14:58 WARN CSVHeaderChecker: CSV header does not conform to the schema.\n",
      " Header: fixed acidity, volatile acidity, citric acid, residual sugar, chlorides, free sulfur dioxide, total sulfur dioxide, density, pH, sulphates, alcohol, quality\n",
      " Schema: fixed_acidity, volatile_acidity, citric_acid, residual_sugar, chlorides, free_sulfur_dioxide, total_sulfur_dioxide, density, pH, sulphates, alcohol, quality\n",
      "Expected: fixed_acidity but found: fixed acidity\n",
      "CSV file: file:///src/tarea3Jupyter/winequality-red.csv\n"
     ]
    }
   ],
   "source": [
    "from pyspark.sql import functions as F\n",
    "threshold = 5\n",
    "WineQualityDF = RawWine_df.withColumn('BinaryQuality', F.when(F.col(\"quality\") <= threshold, 0)\\\n",
    "                                                        .when(F.col(\"quality\") > threshold, 1))\n",
    "WineQualityDF.show(n=5)\n"
   ]
  },
  {
   "cell_type": "markdown",
   "metadata": {},
   "source": [
    "En el siguiente paso eliminamos la variable Quality para realizar el proceso de clasificación en base a nuestra vartiable sintética llamada \"BinaryQuality\""
   ]
  },
  {
   "cell_type": "code",
   "execution_count": 32,
   "metadata": {},
   "outputs": [
    {
     "name": "stdout",
     "output_type": "stream",
     "text": [
      "+-------------+----------------+-----------+--------------+---------+-------------------+--------------------+-------+----+---------+-------+-------------+\n",
      "|fixed_acidity|volatile_acidity|citric_acid|residual_sugar|chlorides|free_sulfur_dioxide|total_sulfur_dioxide|density|  pH|sulphates|alcohol|BinaryQuality|\n",
      "+-------------+----------------+-----------+--------------+---------+-------------------+--------------------+-------+----+---------+-------+-------------+\n",
      "|          7.4|             0.7|        0.0|           1.9|    0.076|               11.0|                34.0| 0.9978|3.51|     0.56|    9.4|            0|\n",
      "|          7.8|            0.88|        0.0|           2.6|    0.098|               25.0|                67.0| 0.9968| 3.2|     0.68|    9.8|            0|\n",
      "|          7.8|            0.76|       0.04|           2.3|    0.092|               15.0|                54.0|  0.997|3.26|     0.65|    9.8|            0|\n",
      "|         11.2|            0.28|       0.56|           1.9|    0.075|               17.0|                60.0|  0.998|3.16|     0.58|    9.8|            1|\n",
      "|          7.4|             0.7|        0.0|           1.9|    0.076|               11.0|                34.0| 0.9978|3.51|     0.56|    9.4|            0|\n",
      "+-------------+----------------+-----------+--------------+---------+-------------------+--------------------+-------+----+---------+-------+-------------+\n",
      "only showing top 5 rows\n",
      "\n"
     ]
    },
    {
     "name": "stderr",
     "output_type": "stream",
     "text": [
      "21/11/04 04:14:58 WARN CSVHeaderChecker: CSV header does not conform to the schema.\n",
      " Header: fixed acidity, volatile acidity, citric acid, residual sugar, chlorides, free sulfur dioxide, total sulfur dioxide, density, pH, sulphates, alcohol, quality\n",
      " Schema: fixed_acidity, volatile_acidity, citric_acid, residual_sugar, chlorides, free_sulfur_dioxide, total_sulfur_dioxide, density, pH, sulphates, alcohol, quality\n",
      "Expected: fixed_acidity but found: fixed acidity\n",
      "CSV file: file:///src/tarea3Jupyter/winequality-red.csv\n"
     ]
    }
   ],
   "source": [
    "WineQualityDF = WineQualityDF.drop(\"quality\")\n",
    "WineQualityDF.show(n=5)"
   ]
  },
  {
   "cell_type": "markdown",
   "metadata": {},
   "source": [
    "## Limpieza de datos"
   ]
  },
  {
   "cell_type": "markdown",
   "metadata": {},
   "source": [
    "**Busquedas de valores \"NaN\": Not a Number**: No se identifican valores NaN"
   ]
  },
  {
   "cell_type": "code",
   "execution_count": 33,
   "metadata": {},
   "outputs": [
    {
     "name": "stdout",
     "output_type": "stream",
     "text": [
      "+-------------+----------------+-----------+--------------+---------+-------------------+--------------------+-------+---+---------+-------+-------------+\n",
      "|fixed_acidity|volatile_acidity|citric_acid|residual_sugar|chlorides|free_sulfur_dioxide|total_sulfur_dioxide|density| pH|sulphates|alcohol|BinaryQuality|\n",
      "+-------------+----------------+-----------+--------------+---------+-------------------+--------------------+-------+---+---------+-------+-------------+\n",
      "|            0|               0|          0|             0|        0|                  0|                   0|      0|  0|        0|      0|            0|\n",
      "+-------------+----------------+-----------+--------------+---------+-------------------+--------------------+-------+---+---------+-------+-------------+\n",
      "\n"
     ]
    },
    {
     "name": "stderr",
     "output_type": "stream",
     "text": [
      "21/11/04 04:14:59 WARN CSVHeaderChecker: CSV header does not conform to the schema.\n",
      " Header: fixed acidity, volatile acidity, citric acid, residual sugar, chlorides, free sulfur dioxide, total sulfur dioxide, density, pH, sulphates, alcohol, quality\n",
      " Schema: fixed_acidity, volatile_acidity, citric_acid, residual_sugar, chlorides, free_sulfur_dioxide, total_sulfur_dioxide, density, pH, sulphates, alcohol, quality\n",
      "Expected: fixed_acidity but found: fixed acidity\n",
      "CSV file: file:///src/tarea3Jupyter/winequality-red.csv\n"
     ]
    }
   ],
   "source": [
    "WineQualityDF.select([count(when(isnan(c), c)).alias(c) for c in WineQualityDF.columns]).show()"
   ]
  },
  {
   "cell_type": "markdown",
   "metadata": {},
   "source": [
    "**Busqueda de valores \"Null\"**: Se identifican varios valores Null"
   ]
  },
  {
   "cell_type": "code",
   "execution_count": 34,
   "metadata": {},
   "outputs": [
    {
     "name": "stdout",
     "output_type": "stream",
     "text": [
      "+-------------+----------------+-----------+--------------+---------+-------------------+--------------------+-------+---+---------+-------+-------------+\n",
      "|fixed_acidity|volatile_acidity|citric_acid|residual_sugar|chlorides|free_sulfur_dioxide|total_sulfur_dioxide|density| pH|sulphates|alcohol|BinaryQuality|\n",
      "+-------------+----------------+-----------+--------------+---------+-------------------+--------------------+-------+---+---------+-------+-------------+\n",
      "|            0|               0|          0|             0|        0|                  0|                   0|      0|  0|        0|      0|            0|\n",
      "+-------------+----------------+-----------+--------------+---------+-------------------+--------------------+-------+---+---------+-------+-------------+\n",
      "\n"
     ]
    },
    {
     "name": "stderr",
     "output_type": "stream",
     "text": [
      "21/11/04 04:14:59 WARN CSVHeaderChecker: CSV header does not conform to the schema.\n",
      " Header: fixed acidity, volatile acidity, citric acid, residual sugar, chlorides, free sulfur dioxide, total sulfur dioxide, density, pH, sulphates, alcohol, quality\n",
      " Schema: fixed_acidity, volatile_acidity, citric_acid, residual_sugar, chlorides, free_sulfur_dioxide, total_sulfur_dioxide, density, pH, sulphates, alcohol, quality\n",
      "Expected: fixed_acidity but found: fixed acidity\n",
      "CSV file: file:///src/tarea3Jupyter/winequality-red.csv\n"
     ]
    }
   ],
   "source": [
    "WineQualityDF.select([count(when(col(c).isNull(), c)).alias(c) for c in WineQualityDF.columns]).show()"
   ]
  },
  {
   "cell_type": "markdown",
   "metadata": {},
   "source": [
    "No se encontraron datos NaN, tampoco Nulls, por lo que no fue necesario limpiar los datos. (Para términos de este ejercicio omitiremos la presencia de outliers, puesto que no tengo el conocimiento técnico para mantener/descartar en caso de que existiera un outlier)"
   ]
  },
  {
   "cell_type": "markdown",
   "metadata": {},
   "source": [
    "## Gráficos y estadísdisticas descriptivas"
   ]
  },
  {
   "cell_type": "markdown",
   "metadata": {},
   "source": [
    "**Estadísticas descriptivas - Features y Variable a predecir**"
   ]
  },
  {
   "cell_type": "code",
   "execution_count": 35,
   "metadata": {},
   "outputs": [
    {
     "name": "stdout",
     "output_type": "stream",
     "text": [
      "+-------+------------------+-------------------+-------------------+------------------+\n",
      "|summary|     fixed_acidity|   volatile_acidity|        citric_acid|    residual_sugar|\n",
      "+-------+------------------+-------------------+-------------------+------------------+\n",
      "|  count|              1599|               1599|               1599|              1599|\n",
      "|   mean|  8.31963727204333| 0.5278205118742565|0.27097560946082344|2.5388054955072743|\n",
      "| stddev|1.7410963179910275|0.17905970357107073|0.19480113735645493|1.4099280590834145|\n",
      "|    min|               4.6|               0.12|                0.0|               0.9|\n",
      "|    max|              15.9|               1.58|                1.0|              15.5|\n",
      "+-------+------------------+-------------------+-------------------+------------------+\n",
      "\n"
     ]
    },
    {
     "name": "stderr",
     "output_type": "stream",
     "text": [
      "21/11/04 04:14:59 WARN CSVHeaderChecker: CSV header does not conform to the schema.\n",
      " Header: fixed acidity, volatile acidity, citric acid, residual sugar\n",
      " Schema: fixed_acidity, volatile_acidity, citric_acid, residual_sugar\n",
      "Expected: fixed_acidity but found: fixed acidity\n",
      "CSV file: file:///src/tarea3Jupyter/winequality-red.csv\n"
     ]
    }
   ],
   "source": [
    "WineQualityDF.describe(WineQualityDF.schema.names[0:4]).show()"
   ]
  },
  {
   "cell_type": "code",
   "execution_count": 36,
   "metadata": {},
   "outputs": [
    {
     "name": "stderr",
     "output_type": "stream",
     "text": [
      "21/11/04 04:14:59 WARN CSVHeaderChecker: CSV header does not conform to the schema.\n",
      " Header: chlorides, free sulfur dioxide, total sulfur dioxide, density\n",
      " Schema: chlorides, free_sulfur_dioxide, total_sulfur_dioxide, density\n",
      "Expected: free_sulfur_dioxide but found: free sulfur dioxide\n",
      "CSV file: file:///src/tarea3Jupyter/winequality-red.csv\n"
     ]
    },
    {
     "name": "stdout",
     "output_type": "stream",
     "text": [
      "+-------+-------------------+-------------------+--------------------+--------------------+\n",
      "|summary|          chlorides|free_sulfur_dioxide|total_sulfur_dioxide|             density|\n",
      "+-------+-------------------+-------------------+--------------------+--------------------+\n",
      "|  count|               1599|               1599|                1599|                1599|\n",
      "|   mean|0.08746654185244558| 15.874921826141339|   46.46779237023139|  0.9967466800044371|\n",
      "| stddev|0.04706530186883863|  10.46015696980971|   32.89532447829907|0.001887335252223...|\n",
      "|    min|              0.012|                1.0|                 6.0|             0.99007|\n",
      "|    max|              0.611|               72.0|               289.0|             1.00369|\n",
      "+-------+-------------------+-------------------+--------------------+--------------------+\n",
      "\n"
     ]
    }
   ],
   "source": [
    "WineQualityDF.describe(WineQualityDF.schema.names[4:8]).show()"
   ]
  },
  {
   "cell_type": "code",
   "execution_count": 37,
   "metadata": {},
   "outputs": [
    {
     "name": "stdout",
     "output_type": "stream",
     "text": [
      "+-------+-------------------+-------------------+------------------+\n",
      "|summary|                 pH|          sulphates|           alcohol|\n",
      "+-------+-------------------+-------------------+------------------+\n",
      "|  count|               1599|               1599|              1599|\n",
      "|   mean| 3.3111131965107585| 0.6581488421292809|10.422983095003262|\n",
      "| stddev|0.15438646318792024|0.16950698014899196|1.0656675859276652|\n",
      "|    min|               2.74|               0.33|               8.4|\n",
      "|    max|               4.01|                2.0|              14.9|\n",
      "+-------+-------------------+-------------------+------------------+\n",
      "\n"
     ]
    }
   ],
   "source": [
    "WineQualityDF.describe(WineQualityDF.schema.names[8:11]).show()"
   ]
  },
  {
   "cell_type": "code",
   "execution_count": 38,
   "metadata": {},
   "outputs": [
    {
     "name": "stdout",
     "output_type": "stream",
     "text": [
      "+-------------+-----+\n",
      "|BinaryQuality|count|\n",
      "+-------------+-----+\n",
      "|1            |855  |\n",
      "|0            |744  |\n",
      "+-------------+-----+\n",
      "\n"
     ]
    }
   ],
   "source": [
    "WineQualityDF.groupBy(\"BinaryQuality\").count().show(truncate=False)"
   ]
  },
  {
   "cell_type": "markdown",
   "metadata": {},
   "source": [
    "**Matriz correlación Pearson y Vectorización**"
   ]
  },
  {
   "cell_type": "code",
   "execution_count": 39,
   "metadata": {},
   "outputs": [
    {
     "name": "stdout",
     "output_type": "stream",
     "text": [
      "+--------------------+-------------+\n",
      "|            features|BinaryQuality|\n",
      "+--------------------+-------------+\n",
      "|[7.40000009536743...|            0|\n",
      "|[7.80000019073486...|            0|\n",
      "|[7.80000019073486...|            0|\n",
      "|[11.1999998092651...|            1|\n",
      "|[7.40000009536743...|            0|\n",
      "|[7.40000009536743...|            0|\n",
      "|[7.90000009536743...|            0|\n",
      "|[7.30000019073486...|            1|\n",
      "|[7.80000019073486...|            1|\n",
      "|[7.5,0.5,0.360000...|            0|\n",
      "|[6.69999980926513...|            0|\n",
      "|[7.5,0.5,0.360000...|            0|\n",
      "|[5.59999990463256...|            0|\n",
      "|[7.80000019073486...|            0|\n",
      "|[8.89999961853027...|            0|\n",
      "+--------------------+-------------+\n",
      "only showing top 15 rows\n",
      "\n"
     ]
    },
    {
     "name": "stderr",
     "output_type": "stream",
     "text": [
      "21/11/04 04:15:00 WARN CSVHeaderChecker: CSV header does not conform to the schema.\n",
      " Header: fixed acidity, volatile acidity, citric acid, residual sugar, chlorides, free sulfur dioxide, total sulfur dioxide, density, pH, sulphates, alcohol, quality\n",
      " Schema: fixed_acidity, volatile_acidity, citric_acid, residual_sugar, chlorides, free_sulfur_dioxide, total_sulfur_dioxide, density, pH, sulphates, alcohol, quality\n",
      "Expected: fixed_acidity but found: fixed acidity\n",
      "CSV file: file:///src/tarea3Jupyter/winequality-red.csv\n"
     ]
    }
   ],
   "source": [
    "from pyspark.ml.feature import VectorAssembler\n",
    "\n",
    "assembler = VectorAssembler(\n",
    "    inputCols=WineQualityDF.drop(\"BinaryQuality\").schema.names,\n",
    "    outputCol='features')\n",
    "\n",
    "vector_df = assembler.transform(WineQualityDF)\n",
    "vector_df = vector_df.select(['features', \"BinaryQuality\"])\n",
    "vector_df.show(n=15)"
   ]
  },
  {
   "cell_type": "code",
   "execution_count": 40,
   "metadata": {},
   "outputs": [
    {
     "name": "stderr",
     "output_type": "stream",
     "text": [
      "21/11/04 04:15:00 WARN CSVHeaderChecker: CSV header does not conform to the schema.\n",
      " Header: fixed acidity, volatile acidity, citric acid, residual sugar, chlorides, free sulfur dioxide, total sulfur dioxide, density, pH, sulphates, alcohol\n",
      " Schema: fixed_acidity, volatile_acidity, citric_acid, residual_sugar, chlorides, free_sulfur_dioxide, total_sulfur_dioxide, density, pH, sulphates, alcohol\n",
      "Expected: fixed_acidity but found: fixed acidity\n",
      "CSV file: file:///src/tarea3Jupyter/winequality-red.csv\n",
      "21/11/04 04:15:00 WARN CSVHeaderChecker: CSV header does not conform to the schema.\n",
      " Header: fixed acidity, volatile acidity, citric acid, residual sugar, chlorides, free sulfur dioxide, total sulfur dioxide, density, pH, sulphates, alcohol\n",
      " Schema: fixed_acidity, volatile_acidity, citric_acid, residual_sugar, chlorides, free_sulfur_dioxide, total_sulfur_dioxide, density, pH, sulphates, alcohol\n",
      "Expected: fixed_acidity but found: fixed acidity\n",
      "CSV file: file:///src/tarea3Jupyter/winequality-red.csv\n",
      "21/11/04 04:15:00 WARN CSVHeaderChecker: CSV header does not conform to the schema.\n",
      " Header: fixed acidity, volatile acidity, citric acid, residual sugar, chlorides, free sulfur dioxide, total sulfur dioxide, density, pH, sulphates, alcohol\n",
      " Schema: fixed_acidity, volatile_acidity, citric_acid, residual_sugar, chlorides, free_sulfur_dioxide, total_sulfur_dioxide, density, pH, sulphates, alcohol\n",
      "Expected: fixed_acidity but found: fixed acidity\n",
      "CSV file: file:///src/tarea3Jupyter/winequality-red.csv\n",
      "21/11/04 04:15:00 WARN CSVHeaderChecker: CSV header does not conform to the schema.\n",
      " Header: fixed acidity, volatile acidity, citric acid, residual sugar, chlorides, free sulfur dioxide, total sulfur dioxide, density, pH, sulphates, alcohol\n",
      " Schema: fixed_acidity, volatile_acidity, citric_acid, residual_sugar, chlorides, free_sulfur_dioxide, total_sulfur_dioxide, density, pH, sulphates, alcohol\n",
      "Expected: fixed_acidity but found: fixed acidity\n",
      "CSV file: file:///src/tarea3Jupyter/winequality-red.csv\n"
     ]
    },
    {
     "data": {
      "image/png": "[encoded data removed]",
      "text/plain": [
       "<Figure size 1296x360 with 2 Axes>"
      ]
     },
     "metadata": {
      "needs_background": "light"
     },
     "output_type": "display_data"
    }
   ],
   "source": [
    "from pyspark.ml.stat import Correlation\n",
    "import seaborn as sns\n",
    "import matplotlib.pyplot as plt\n",
    "\n",
    "pearson_matrix = Correlation.corr(vector_df, 'features').collect()[0][0]\n",
    "fig, ax = plt.subplots(figsize=(18,5))  \n",
    "sns.heatmap(pearson_matrix.toArray(), annot=True, fmt=\".3f\", cmap='viridis', ax=ax)\n",
    "ax.set_xticklabels(WineQualityDF.drop(\"BinaryQuality\").schema.names)\n",
    "ax.set_yticklabels(WineQualityDF.drop(\"BinaryQuality\").schema.names)\n",
    "ax.tick_params(labelrotation=45)\n",
    "\n"
   ]
  },
  {
   "cell_type": "markdown",
   "metadata": {},
   "source": [
    "De esta matriz se observa que si existe variable con una fuerte correlación tanto positiva (\"Density\" vs \"free_sulfur_dioxide\") y como correlación negativa (\"pH\" vs \"fixed_acidity\")"
   ]
  },
  {
   "cell_type": "markdown",
   "metadata": {},
   "source": [
    "## Normalización de Datos\n",
    "Se utilizó el método de normalización por la siguientes razones:\n",
    "* Para un conjunto de datos con múltiples Features que abarcan diversos grados de magnitud, rango y unidades, el método de normalización \"mapea\" los features a distancias ahora son más comparables de lo que eran antes de que se aplicara la normalización.\n",
    "* La estandarización no tiene un rango límite, por lo que si el dataset tiene valores atípicos en sus datos, no se verán afectados por la estandarización.\n"
   ]
  },
  {
   "cell_type": "code",
   "execution_count": 41,
   "metadata": {},
   "outputs": [
    {
     "name": "stdout",
     "output_type": "stream",
     "text": [
      "+--------------------+-------------+--------------------+\n",
      "|            features|BinaryQuality|      scaledFeatures|\n",
      "+--------------------+-------------+--------------------+\n",
      "|[7.40000009536743...|            0|[4.25019570652240...|\n",
      "|[7.80000019073486...|            0|[4.47993606679665...|\n",
      "|[7.80000019073486...|            0|[4.47993606679665...|\n",
      "|[11.1999998092651...|            1|[6.43272844444832...|\n",
      "|[7.40000009536743...|            0|[4.25019570652240...|\n",
      "|[7.40000009536743...|            0|[4.25019570652240...|\n",
      "|[7.90000009536743...|            0|[4.53737108839727...|\n",
      "|[7.30000019073486...|            1|[4.19276068492178...|\n",
      "|[7.80000019073486...|            1|[4.47993606679665...|\n",
      "|[7.5,0.5,0.360000...|            0|[4.30763072812302...|\n",
      "|[6.69999980926513...|            0|[3.84815000757451...|\n",
      "|[7.5,0.5,0.360000...|            0|[4.30763072812302...|\n",
      "|[5.59999990463256...|            0|[3.21636422222416...|\n",
      "|[7.80000019073486...|            0|[4.47993606679665...|\n",
      "|[8.89999961853027...|            0|[5.11172157827522...|\n",
      "|[8.89999961853027...|            0|[5.11172157827522...|\n",
      "|[8.5,0.2800000011...|            1|[4.88198149187275...|\n",
      "|[8.10000038146972...|            0|[4.65224140547029...|\n",
      "|[7.40000009536743...|            0|[4.25019570652240...|\n",
      "|[7.90000009536743...|            1|[4.53737108839727...|\n",
      "+--------------------+-------------+--------------------+\n",
      "only showing top 20 rows\n",
      "\n"
     ]
    },
    {
     "name": "stderr",
     "output_type": "stream",
     "text": [
      "21/11/04 04:15:01 WARN CSVHeaderChecker: CSV header does not conform to the schema.\n",
      " Header: fixed acidity, volatile acidity, citric acid, residual sugar, chlorides, free sulfur dioxide, total sulfur dioxide, density, pH, sulphates, alcohol\n",
      " Schema: fixed_acidity, volatile_acidity, citric_acid, residual_sugar, chlorides, free_sulfur_dioxide, total_sulfur_dioxide, density, pH, sulphates, alcohol\n",
      "Expected: fixed_acidity but found: fixed acidity\n",
      "CSV file: file:///src/tarea3Jupyter/winequality-red.csv\n",
      "21/11/04 04:15:01 WARN CSVHeaderChecker: CSV header does not conform to the schema.\n",
      " Header: fixed acidity, volatile acidity, citric acid, residual sugar, chlorides, free sulfur dioxide, total sulfur dioxide, density, pH, sulphates, alcohol, quality\n",
      " Schema: fixed_acidity, volatile_acidity, citric_acid, residual_sugar, chlorides, free_sulfur_dioxide, total_sulfur_dioxide, density, pH, sulphates, alcohol, quality\n",
      "Expected: fixed_acidity but found: fixed acidity\n",
      "CSV file: file:///src/tarea3Jupyter/winequality-red.csv\n"
     ]
    }
   ],
   "source": [
    "from pyspark.ml.feature import StandardScaler\n",
    "\n",
    "standard_scaler = StandardScaler(inputCol='features', outputCol='scaledFeatures')\n",
    "scale_model = standard_scaler.fit(vector_df)\n",
    "\n",
    "scaled_df = scale_model.transform(vector_df)\n",
    "scaled_df.show()"
   ]
  },
  {
   "cell_type": "code",
   "execution_count": 42,
   "metadata": {},
   "outputs": [
    {
     "name": "stdout",
     "output_type": "stream",
     "text": [
      "+--------------------------------------------------------------------------------------------------------------------------------------------------------------------------------------------------------------+-------------+\n",
      "|scaledFeatures                                                                                                                                                                                                |BinaryQuality|\n",
      "+--------------------------------------------------------------------------------------------------------------------------------------------------------------------------------------------------------------+-------------+\n",
      "|[4.250195706522404,3.909310549043959,0.0,1.3475864700453726,1.6147776501679734,1.0516094578454602,1.033581535954439,528.681902902932,22.735153833991657,3.3036987733010235,8.820761504486935]                 |0            |\n",
      "|[4.479936066796656,4.914561890148259,0.0,1.84406565135161,2.082213298240522,2.3900214951033187,2.036763614969041,528.1520621530078,20.727206139754976,4.0116342498394815,9.19611361004656]                    |0            |\n",
      "|[4.479936066796656,4.244394329412059,0.2053376055640616,1.631288871441781,1.9547309063309342,1.4340128970619912,1.6415706747511676,528.2580176704421,21.115840878452943,3.834650204887197,9.19611361004656]   |0            |\n",
      "|[6.432728444448329,1.5637242529051651,2.874726554391083,1.3475864700453726,1.5935306903850721,1.6252146166702566,1.8239674163901862,528.7878900017428,20.46811631395633,3.4216879021789866,9.19611361004656]  |1            |\n",
      "|[4.250195706522404,3.909310549043959,0.0,1.3475864700453726,1.6147776501679734,1.0516094578454602,1.033581535954439,528.681902902932,22.735153833991657,3.3036987733010235,8.820761504486935]                 |0            |\n",
      "|[4.250195706522404,3.685921584049102,0.0,1.2766608485587931,1.5935306903850721,1.2428111774537256,1.2159782775934573,528.681902902932,22.735153833991657,3.3036987733010235,8.820761504486935]                |0            |\n",
      "|[4.537371088397272,3.350837803681002,0.30800640834609244,1.1348096901355436,1.4660481401724392,1.4340128970619912,1.7935679594503497,527.9401195367628,21.37493070425159,2.7137526014581987,8.820761504486935]|0            |\n",
      "|[4.1927606849217876,3.6300740099245727,0.0,0.851107288739135,1.381059826131699,1.4340128970619912,0.6383885957365651,526.9863935543485,21.95788435659572,2.7727471658971803,9.383789215372433]                |1            |\n",
      "|[4.479936066796656,3.2391429883077585,0.1026688027820308,1.418512091531952,1.5510364542131796,0.8604077382371946,0.5471902249170558,528.1520621530078,21.76356544294956,3.362693337740005,8.914599754603811]  |1            |\n",
      "|[4.30763072812302,2.79236472544223,1.8480385648178856,4.326461811532526,1.508542376344332,1.6252146166702566,3.1007446078633163,528.681902902932,21.698792986499896,4.71956972637794,9.852978676141054]       |0            |\n",
      "|[3.848150007574517,3.2391429883077585,0.4106752111281232,1.2766608485587931,2.0609663384576207,1.4340128970619912,1.9759647010893684,527.6751833711124,21.245385791352266,3.185709644423061,8.633085899161062]|0            |\n",
      "|[4.30763072812302,2.79236472544223,1.8480385648178856,4.326461811532526,1.508542376344332,1.6252146166702566,3.1007446078633163,528.681902902932,21.698792986499896,4.71956972637794,9.852978676141054]       |0            |\n",
      "|[3.2163642222241644,3.434608665554073,0.0,1.1348096901355436,1.8909897103761402,1.5296137568661239,1.7935679594503497,526.8274444875088,23.18856102913929,3.0677201639097573,9.289950965255557]               |0            |\n",
      "|[4.479936066796656,3.406685044929716,1.4886976307776691,1.1348096901355436,2.4221665544034825,0.8604077382371946,0.8815842512552566,528.4699602866871,21.115840878452943,9.203160491729273,8.539248543952064] |0            |\n",
      "|[5.111721578275222,3.4625322861784302,0.9240192824089428,2.695172940090745,3.7394851845803876,4.971244709814902,4.407921256276283,529.105788135422,20.46811631395633,5.191526593525132,8.633085899161062]     |0            |\n",
      "|[5.111721578275222,3.4625322861784302,0.9753536359910703,2.766098646127234,3.6120027926708,4.8756438500107695,4.4991196270957925,529.105788135422,20.53288877040599,5.486499767355379,8.633085899161062]      |0            |\n",
      "|[4.881981491872756,1.5637242529051651,2.874726554391083,1.2766608485587931,1.9547309063309342,3.346030093144646,3.131144064803153,528.2050557024131,21.37493070425159,4.424596552547692,9.852978676141054]    |1            |\n",
      "|[4.65224140547029,3.1274485058103303,1.4373632771955416,1.205735311622123,7.818923625323737,1.5296137568661239,1.7023695886308405,528.1520621530078,20.144252487410846,7.551311280896431,8.726924149277938]   |0            |\n",
      "|[4.250195706522404,3.294990229556473,0.4106752111281232,3.1207266690102218,1.8272485144213462,0.5736051588247965,0.8815842512552566,528.4699602866871,21.893111900146057,2.9497310350317947,8.44541029383519] |0            |\n",
      "|[4.537371088397272,1.7871133843379294,2.618054480503563,1.2766608485587931,7.2452523868214564,1.6252146166702566,1.7023695886308405,528.2050557024131,19.690845292263216,6.371419288846122,8.633085899161062] |1            |\n",
      "+--------------------------------------------------------------------------------------------------------------------------------------------------------------------------------------------------------------+-------------+\n",
      "only showing top 20 rows\n",
      "\n",
      "root\n",
      " |-- scaledFeatures: vector (nullable = true)\n",
      " |-- BinaryQuality: integer (nullable = true)\n",
      "\n"
     ]
    },
    {
     "name": "stderr",
     "output_type": "stream",
     "text": [
      "21/11/04 04:15:01 WARN CSVHeaderChecker: CSV header does not conform to the schema.\n",
      " Header: fixed acidity, volatile acidity, citric acid, residual sugar, chlorides, free sulfur dioxide, total sulfur dioxide, density, pH, sulphates, alcohol, quality\n",
      " Schema: fixed_acidity, volatile_acidity, citric_acid, residual_sugar, chlorides, free_sulfur_dioxide, total_sulfur_dioxide, density, pH, sulphates, alcohol, quality\n",
      "Expected: fixed_acidity but found: fixed acidity\n",
      "CSV file: file:///src/tarea3Jupyter/winequality-red.csv\n"
     ]
    }
   ],
   "source": [
    "cleaned_df = scaled_df.select(\"scaledFeatures\",\"BinaryQuality\")\n",
    "cleaned_df.show(truncate = False)\n",
    "cleaned_df.printSchema()"
   ]
  },
  {
   "cell_type": "markdown",
   "metadata": {},
   "source": [
    "## Escritura a la base de datos"
   ]
  },
  {
   "cell_type": "markdown",
   "metadata": {},
   "source": [
    "Regeneramos los nombres de las columnas de cada feature del dataset para escribir a la base de datos"
   ]
  },
  {
   "cell_type": "code",
   "execution_count": 43,
   "metadata": {},
   "outputs": [
    {
     "name": "stdout",
     "output_type": "stream",
     "text": [
      "+------------------+------------------+-------------------+------------------+------------------+-------------------+--------------------+-----------------+------------------+------------------+-----------------+-------------+\n",
      "|     fixed_acidity|  volatile_acidity|        citric_acid|    residual_sugar|         chlorides|free_sulfur_dioxide|total_sulfur_dioxide|          density|                pH|         sulphates|          alcohol|BinaryQuality|\n",
      "+------------------+------------------+-------------------+------------------+------------------+-------------------+--------------------+-----------------+------------------+------------------+-----------------+-------------+\n",
      "| 4.250195706522404| 3.909310549043959|                0.0|1.3475864700453726|1.6147776501679734| 1.0516094578454602|   1.033581535954439| 528.681902902932|22.735153833991657|3.3036987733010235|8.820761504486935|            0|\n",
      "| 4.479936066796656| 4.914561890148259|                0.0|  1.84406565135161| 2.082213298240522| 2.3900214951033187|   2.036763614969041|528.1520621530078|20.727206139754976|4.0116342498394815| 9.19611361004656|            0|\n",
      "| 4.479936066796656| 4.244394329412059| 0.2053376055640616| 1.631288871441781|1.9547309063309342| 1.4340128970619912|  1.6415706747511676|528.2580176704421|21.115840878452943| 3.834650204887197| 9.19611361004656|            0|\n",
      "| 6.432728444448329|1.5637242529051651|  2.874726554391083|1.3475864700453726|1.5935306903850721| 1.6252146166702566|  1.8239674163901862|528.7878900017428| 20.46811631395633|3.4216879021789866| 9.19611361004656|            1|\n",
      "| 4.250195706522404| 3.909310549043959|                0.0|1.3475864700453726|1.6147776501679734| 1.0516094578454602|   1.033581535954439| 528.681902902932|22.735153833991657|3.3036987733010235|8.820761504486935|            0|\n",
      "| 4.250195706522404| 3.685921584049102|                0.0|1.2766608485587931|1.5935306903850721| 1.2428111774537256|  1.2159782775934573| 528.681902902932|22.735153833991657|3.3036987733010235|8.820761504486935|            0|\n",
      "| 4.537371088397272| 3.350837803681002|0.30800640834609244|1.1348096901355436|1.4660481401724392| 1.4340128970619912|  1.7935679594503497|527.9401195367628| 21.37493070425159|2.7137526014581987|8.820761504486935|            0|\n",
      "|4.1927606849217876|3.6300740099245727|                0.0| 0.851107288739135| 1.381059826131699| 1.4340128970619912|  0.6383885957365651|526.9863935543485| 21.95788435659572|2.7727471658971803|9.383789215372433|            1|\n",
      "| 4.479936066796656|3.2391429883077585| 0.1026688027820308| 1.418512091531952|1.5510364542131796| 0.8604077382371946|  0.5471902249170558|528.1520621530078| 21.76356544294956| 3.362693337740005|8.914599754603811|            1|\n",
      "|  4.30763072812302|  2.79236472544223| 1.8480385648178856| 4.326461811532526| 1.508542376344332| 1.6252146166702566|  3.1007446078633163| 528.681902902932|21.698792986499896|  4.71956972637794|9.852978676141054|            0|\n",
      "| 3.848150007574517|3.2391429883077585| 0.4106752111281232|1.2766608485587931|2.0609663384576207| 1.4340128970619912|  1.9759647010893684|527.6751833711124|21.245385791352266| 3.185709644423061|8.633085899161062|            0|\n",
      "|  4.30763072812302|  2.79236472544223| 1.8480385648178856| 4.326461811532526| 1.508542376344332| 1.6252146166702566|  3.1007446078633163| 528.681902902932|21.698792986499896|  4.71956972637794|9.852978676141054|            0|\n",
      "|3.2163642222241644| 3.434608665554073|                0.0|1.1348096901355436|1.8909897103761402| 1.5296137568661239|  1.7935679594503497|526.8274444875088| 23.18856102913929|3.0677201639097573|9.289950965255557|            0|\n",
      "| 4.479936066796656| 3.406685044929716| 1.4886976307776691|1.1348096901355436|2.4221665544034825| 0.8604077382371946|  0.8815842512552566|528.4699602866871|21.115840878452943| 9.203160491729273|8.539248543952064|            0|\n",
      "| 5.111721578275222|3.4625322861784302| 0.9240192824089428| 2.695172940090745|3.7394851845803876|  4.971244709814902|   4.407921256276283| 529.105788135422| 20.46811631395633| 5.191526593525132|8.633085899161062|            0|\n",
      "| 5.111721578275222|3.4625322861784302| 0.9753536359910703| 2.766098646127234|   3.6120027926708| 4.8756438500107695|  4.4991196270957925| 529.105788135422| 20.53288877040599| 5.486499767355379|8.633085899161062|            0|\n",
      "| 4.881981491872756|1.5637242529051651|  2.874726554391083|1.2766608485587931|1.9547309063309342|  3.346030093144646|   3.131144064803153|528.2050557024131| 21.37493070425159| 4.424596552547692|9.852978676141054|            1|\n",
      "|  4.65224140547029|3.1274485058103303| 1.4373632771955416| 1.205735311622123| 7.818923625323737| 1.5296137568661239|  1.7023695886308405|528.1520621530078|20.144252487410846| 7.551311280896431|8.726924149277938|            0|\n",
      "| 4.250195706522404| 3.294990229556473| 0.4106752111281232|3.1207266690102218|1.8272485144213462| 0.5736051588247965|  0.8815842512552566|528.4699602866871|21.893111900146057|2.9497310350317947| 8.44541029383519|            0|\n",
      "| 4.537371088397272|1.7871133843379294|  2.618054480503563|1.2766608485587931|7.2452523868214564| 1.6252146166702566|  1.7023695886308405|528.2050557024131|19.690845292263216| 6.371419288846122|8.633085899161062|            1|\n",
      "+------------------+------------------+-------------------+------------------+------------------+-------------------+--------------------+-----------------+------------------+------------------+-----------------+-------------+\n",
      "only showing top 20 rows\n",
      "\n"
     ]
    },
    {
     "name": "stderr",
     "output_type": "stream",
     "text": [
      "21/11/04 04:15:01 WARN CSVHeaderChecker: CSV header does not conform to the schema.\n",
      " Header: fixed acidity, volatile acidity, citric acid, residual sugar, chlorides, free sulfur dioxide, total sulfur dioxide, density, pH, sulphates, alcohol, quality\n",
      " Schema: fixed_acidity, volatile_acidity, citric_acid, residual_sugar, chlorides, free_sulfur_dioxide, total_sulfur_dioxide, density, pH, sulphates, alcohol, quality\n",
      "Expected: fixed_acidity but found: fixed acidity\n",
      "CSV file: file:///src/tarea3Jupyter/winequality-red.csv\n"
     ]
    }
   ],
   "source": [
    "from pyspark.ml.functions import vector_to_array\n",
    "\n",
    "features_col_names = WineQualityDF.drop(\"BinaryQuality\").schema.names\n",
    "\n",
    "\n",
    "ExpandedDFtoDB = (cleaned_df.withColumn(\"xs\", vector_to_array(\"scaledFeatures\")))\\\n",
    "    .select([col(\"xs\")[i].alias(features_col_names[i]) for i in range(11)]+[\"BinaryQuality\"])\n",
    "\n",
    "\n",
    "ExpandedDFtoDB.show()"
   ]
  },
  {
   "cell_type": "markdown",
   "metadata": {},
   "source": [
    "Escribimos con overwrite la tabla **tarea3** a la base de datos"
   ]
  },
  {
   "cell_type": "code",
   "execution_count": 44,
   "metadata": {
    "colab": {},
    "colab_type": "code",
    "id": "-LtTt2AyTb3d"
   },
   "outputs": [
    {
     "name": "stderr",
     "output_type": "stream",
     "text": [
      "21/11/04 04:15:01 WARN CSVHeaderChecker: CSV header does not conform to the schema.\n",
      " Header: fixed acidity, volatile acidity, citric acid, residual sugar, chlorides, free sulfur dioxide, total sulfur dioxide, density, pH, sulphates, alcohol, quality\n",
      " Schema: fixed_acidity, volatile_acidity, citric_acid, residual_sugar, chlorides, free_sulfur_dioxide, total_sulfur_dioxide, density, pH, sulphates, alcohol, quality\n",
      "Expected: fixed_acidity but found: fixed acidity\n",
      "CSV file: file:///src/tarea3Jupyter/winequality-red.csv\n"
     ]
    }
   ],
   "source": [
    "# Almacenar el conjunto de datos limpio en la base de datos\n",
    "ExpandedDFtoDB \\\n",
    "    .write \\\n",
    "    .format(\"jdbc\") \\\n",
    "    .mode('overwrite') \\\n",
    "    .option(\"url\", \"jdbc:postgresql://host.docker.internal:5433/postgres\") \\\n",
    "    .option(\"user\", \"postgres\") \\\n",
    "    .option(\"password\", \"testPassword\") \\\n",
    "    .option(\"dbtable\", \"tarea3\") \\\n",
    "    .save()"
   ]
  },
  {
   "cell_type": "markdown",
   "metadata": {},
   "source": [
    "# Entrenamiento de modelos"
   ]
  },
  {
   "cell_type": "markdown",
   "metadata": {
    "colab_type": "text",
    "id": "93Fc2KNTTb3f"
   },
   "source": [
    "## Lectura desde la base de datos\n"
   ]
  },
  {
   "cell_type": "markdown",
   "metadata": {},
   "source": [
    "Leemos la tabla **tarea3** desde la base de datos"
   ]
  },
  {
   "cell_type": "code",
   "execution_count": 45,
   "metadata": {
    "colab": {},
    "colab_type": "code",
    "id": "5II3C8K8Tb3g",
    "outputId": "6b22d1ec-2fd8-45e3-b4fb-b590ddedbc39",
    "scrolled": false
   },
   "outputs": [
    {
     "name": "stdout",
     "output_type": "stream",
     "text": [
      "+-----------------+-----------------+------------------+------------------+------------------+-------------------+--------------------+-----------------+------------------+------------------+-----------------+-------------+\n",
      "|    fixed_acidity| volatile_acidity|       citric_acid|    residual_sugar|         chlorides|free_sulfur_dioxide|total_sulfur_dioxide|          density|                pH|         sulphates|          alcohol|BinaryQuality|\n",
      "+-----------------+-----------------+------------------+------------------+------------------+-------------------+--------------------+-----------------+------------------+------------------+-----------------+-------------+\n",
      "|4.250195706522404|3.909310549043959|               0.0|1.3475864700453726|1.6147776501679734| 1.0516094578454602|   1.033581535954439| 528.681902902932|22.735153833991657|3.3036987733010235|8.820761504486935|            0|\n",
      "|4.479936066796656|4.914561890148259|               0.0|  1.84406565135161| 2.082213298240522| 2.3900214951033187|   2.036763614969041|528.1520621530078|20.727206139754976|4.0116342498394815| 9.19611361004656|            0|\n",
      "|4.479936066796656|4.244394329412059|0.2053376055640616| 1.631288871441781|1.9547309063309342| 1.4340128970619912|  1.6415706747511676|528.2580176704421|21.115840878452943| 3.834650204887197| 9.19611361004656|            0|\n",
      "+-----------------+-----------------+------------------+------------------+------------------+-------------------+--------------------+-----------------+------------------+------------------+-----------------+-------------+\n",
      "only showing top 3 rows\n",
      "\n"
     ]
    }
   ],
   "source": [
    "# Cargar el conjunto de datos. Esta vez desde la base de datos\n",
    "\n",
    "# Reading single DataFrame in Spark by retrieving all rows from a DB table.\n",
    "df = spark \\\n",
    "    .read \\\n",
    "    .format(\"jdbc\") \\\n",
    "    .option(\"url\", \"jdbc:postgresql://host.docker.internal:5433/postgres\") \\\n",
    "    .option(\"user\", \"postgres\") \\\n",
    "    .option(\"password\", \"testPassword\") \\\n",
    "    .option(\"dbtable\", \"tarea3\") \\\n",
    "    .load()\n",
    "\n",
    "df.show(n=3)"
   ]
  },
  {
   "cell_type": "markdown",
   "metadata": {},
   "source": [
    "Vectorizamos los features para poder utilizar las funciones de Machine Learning de Spark (spark.ML)"
   ]
  },
  {
   "cell_type": "code",
   "execution_count": 46,
   "metadata": {
    "colab": {},
    "colab_type": "code",
    "id": "mf87eHm0Tb3l",
    "outputId": "2f2f9241-8a13-4e29-dbda-2634ec36431b",
    "scrolled": true
   },
   "outputs": [
    {
     "name": "stdout",
     "output_type": "stream",
     "text": [
      "root\n",
      " |-- features: vector (nullable = true)\n",
      " |-- BinaryQuality: integer (nullable = true)\n",
      "\n",
      "+--------------------+-------------+\n",
      "|            features|BinaryQuality|\n",
      "+--------------------+-------------+\n",
      "|[4.25019570652240...|            0|\n",
      "|[4.47993606679665...|            0|\n",
      "|[4.47993606679665...|            0|\n",
      "+--------------------+-------------+\n",
      "only showing top 3 rows\n",
      "\n"
     ]
    }
   ],
   "source": [
    "# Para realizar operaciones más detalladas es necesario expresar las filas originales en vectores\n",
    "from pyspark.ml.feature import VectorAssembler\n",
    "\n",
    "assembler = VectorAssembler(\n",
    "    inputCols=WineQualityDF.drop(\"BinaryQuality\").schema.names,\n",
    "    outputCol='features')\n",
    "\n",
    "vector_df = assembler.transform(df)\n",
    "vector_df = vector_df.select(['features', \"BinaryQuality\"])\n",
    "vector_df.printSchema()\n",
    "vector_df.show(n=3)\n",
    "\n"
   ]
  },
  {
   "cell_type": "markdown",
   "metadata": {
    "colab_type": "text",
    "id": "bv62COlLTb3t"
   },
   "source": [
    "# Entrenamiento de modelos\n"
   ]
  },
  {
   "cell_type": "markdown",
   "metadata": {},
   "source": [
    "Dividimos el dataset en Training (90%) y Testing (10%). Se utiliza esta partición para de 90% para training con el objetivo de aplicar el protocolo de validación K Fold. Se utiliza el 10% restante para validar el modelo"
   ]
  },
  {
   "cell_type": "code",
   "execution_count": 47,
   "metadata": {},
   "outputs": [
    {
     "name": "stdout",
     "output_type": "stream",
     "text": [
      "*****************************\n",
      "trainDF--> Qty Filas: 1437  Cantidad Columnas: 2\n",
      "testDF--> Filas: 162  Cantidad Columnas: 2\n",
      "*****************************\n"
     ]
    }
   ],
   "source": [
    "from pyspark.ml.evaluation import RegressionEvaluator\n",
    "from pyspark.ml.regression import LinearRegression\n",
    "from pyspark.ml.tuning import ParamGridBuilder, TrainValidationSplit\n",
    "\n",
    "# Prepare train/test and validation data.\n",
    "\n",
    "print(\"*****************************\")\n",
    "trainDF, testDF = vector_df.randomSplit([0.9,0.1], seed = 21)\n",
    "print('trainDF--> Qty Filas: {}  Cantidad Columnas: {}'.format(trainDF.count(), len(trainDF.columns)))\n",
    "print('testDF--> Filas: {}  Cantidad Columnas: {}'.format(testDF.count(), len(testDF.columns)))\n",
    "print(\"*****************************\")"
   ]
  },
  {
   "cell_type": "markdown",
   "metadata": {},
   "source": [
    "## Clasificador - Arbol de Decision\n",
    "\n",
    "El siguiente modelo utiliza el protocolo de validación K-Fold, además que se logra un entrenamiento entrenar un modelo predictivo"
   ]
  },
  {
   "cell_type": "code",
   "execution_count": 48,
   "metadata": {},
   "outputs": [
    {
     "name": "stdout",
     "output_type": "stream",
     "text": [
      "CrossValidatorModel_6323644056fd\n",
      "****Evaluar Underfitting / Overfitting del modelo****\n",
      "dtpredictionsTrain\n",
      "areaUnderROC Train 0.7556208527116699\n",
      "******************************************************\n",
      "dtpredictionsTest\n",
      "areaUnderROC Test 0.6858108108108107\n",
      "******************************************************\n"
     ]
    }
   ],
   "source": [
    "from pyspark.ml.classification import DecisionTreeClassifier\n",
    "from pyspark.ml.tuning import ParamGridBuilder, CrossValidator\n",
    "from pyspark.ml.evaluation import BinaryClassificationEvaluator\n",
    "from pyspark.mllib.evaluation import BinaryClassificationMetrics\n",
    "#from mmlspark import ComputeModelStatistics\n",
    "\n",
    "# Crear el model inicial de arbol de decision\n",
    "dt = DecisionTreeClassifier(labelCol=\"BinaryQuality\", featuresCol=\"features\", maxDepth=8)\n",
    "\n",
    "# crear grilla para probar el modelo \n",
    "dtparamGrid = (ParamGridBuilder()\n",
    "             .addGrid(dt.maxDepth, [4])             \n",
    "             .build())\n",
    "\n",
    "# Evaluar el modelo\n",
    "dtevaluator = BinaryClassificationEvaluator()\n",
    "dtevaluator.setRawPredictionCol(\"prediction\")\n",
    "dtevaluator.setLabelCol(\"BinaryQuality\")\n",
    "\n",
    "\n",
    "# Create 5-fold CrossValidator\n",
    "dtcv = CrossValidator(estimator = dt, estimatorParamMaps = dtparamGrid,evaluator = dtevaluator,numFolds = 5)#\n",
    "\n",
    "# Run cross validations\n",
    "dtcvModel = dtcv.fit(trainDF)\n",
    "predictions = dtcvModel.transform(testDF)\n",
    "\n",
    "print(dtcvModel)\n",
    "\n",
    "print(\"****Evaluar Underfitting / Overfitting del modelo****\")\n",
    "print(\"dtpredictionsTrain\")\n",
    "dtpredictionsTrain = dtcvModel.transform(trainDF)\n",
    "print(\"areaUnderROC Train\",dtevaluator.evaluate(dtpredictionsTrain, {dtevaluator.metricName: \"areaUnderROC\"}))\n",
    "print(\"******************************************************\")\n",
    "print(\"dtpredictionsTest\")\n",
    "dtpredictionsTest = dtcvModel.transform(testDF)\n",
    "print(\"areaUnderROC Test\",dtevaluator.evaluate(dtpredictionsTest, {dtevaluator.metricName: \"areaUnderROC\"}))\n",
    "print(\"******************************************************\")\n",
    "\n",
    "\n",
    "predictionsDF1 = dtpredictionsTest"
   ]
  },
  {
   "cell_type": "markdown",
   "metadata": {},
   "source": [
    "Se observa que el modelo se entrenó de manera correcta puesto que los valores de areaUnderROC para Training y Validación son muy cercanos, lo cual significa que no hubo overfitting ni underfitting. \n",
    "\n",
    "Escritura de la tabla **modelo1** a la base de datos"
   ]
  },
  {
   "cell_type": "code",
   "execution_count": 49,
   "metadata": {},
   "outputs": [
    {
     "name": "stdout",
     "output_type": "stream",
     "text": [
      "['fixed_acidity', 'volatile_acidity', 'citric_acid', 'residual_sugar', 'chlorides', 'free_sulfur_dioxide', 'total_sulfur_dioxide', 'density', 'pH', 'sulphates', 'alcohol']\n",
      "+------------------+-----------------+------------------+------------------+------------------+-------------------+--------------------+-----------------+-----------------+------------------+------------------+-------------+----------+\n",
      "|     fixed_acidity| volatile_acidity|       citric_acid|    residual_sugar|         chlorides|free_sulfur_dioxide|total_sulfur_dioxide|          density|               pH|         sulphates|           alcohol|BinaryQuality|prediction|\n",
      "+------------------+-----------------+------------------+------------------+------------------+-------------------+--------------------+-----------------+-----------------+------------------+------------------+-------------+----------+\n",
      "|3.2163642222241644|3.685921584049102|               0.0|  1.77314011441494|1.4023069442176455| 0.6692060186289293| 0.45599185409754656| 525.905520951013|22.79992629044132|3.4216879021789866|12.105087729867288|            0|       1.0|\n",
      "|3.5035396040990325|3.937234169668316|0.5133440330337092|1.9859168943247691|1.7210130822946599| 1.2428111774537256|  0.8511847943154203|527.8924316585733|23.31810594203861| 3.893645120961519| 9.571464820698306|            0|       1.0|\n",
      "| 3.560974625699649|2.178044405954744|2.2073793458696604| 1.418512091531952| 1.508542376344332| 1.3384120372578585|  0.7295869665560745|526.8168331450772|22.34651909529369|  5.13253202908615| 10.50984374223555|            1|       1.0|\n",
      "+------------------+-----------------+------------------+------------------+------------------+-------------------+--------------------+-----------------+-----------------+------------------+------------------+-------------+----------+\n",
      "only showing top 3 rows\n",
      "\n"
     ]
    }
   ],
   "source": [
    "from pyspark.ml.functions import vector_to_array\n",
    "\n",
    "features_col_names = WineQualityDF.drop(\"BinaryQuality\").schema.names\n",
    "print(features_col_names)\n",
    "\n",
    "\n",
    "ExpandedDFtoDB = (predictionsDF1.drop(\"rawPrediction\",\"probability\").withColumn(\"xs\", vector_to_array(\"features\")))\\\n",
    "    .select([col(\"xs\")[i].alias(features_col_names[i]) for i in range(11)]+[\"BinaryQuality\"]+[\"prediction\"])\n",
    "\n",
    "\n",
    "ExpandedDFtoDB.show(n=3)\n",
    "\n",
    "# Almacenar el conjunto de datos limpio en la base de datos\n",
    "ExpandedDFtoDB \\\n",
    "    .write \\\n",
    "    .format(\"jdbc\") \\\n",
    "    .mode('overwrite') \\\n",
    "    .option(\"url\", \"jdbc:postgresql://host.docker.internal:5433/postgres\") \\\n",
    "    .option(\"user\", \"postgres\") \\\n",
    "    .option(\"password\", \"testPassword\") \\\n",
    "    .option(\"dbtable\", \"modelo1\") \\\n",
    "    .save()"
   ]
  },
  {
   "cell_type": "markdown",
   "metadata": {},
   "source": [
    "## Clasificador - LogisticRegression\n",
    "\n",
    "El siguiente model utilizar el protocolo de validación K-Fold, además que se logra un entrenamiento entrenar un modelo predictivo"
   ]
  },
  {
   "cell_type": "code",
   "execution_count": 50,
   "metadata": {},
   "outputs": [
    {
     "name": "stdout",
     "output_type": "stream",
     "text": [
      "CrossValidatorModel_e9bad1850e50\n",
      "****Evaluar Underfitting / Overfitting del modelo****\n",
      "dtpredictionsTrain\n",
      "areaUnderROC Train 0.7449775243729204\n",
      "******************************************************\n",
      "dtpredictionsTest\n",
      "areaUnderROC Test 0.7249692874692876\n",
      "******************************************************\n"
     ]
    }
   ],
   "source": [
    "#https://gist.github.com/colbyford/7758088502211daa90dbc1b51c408762 \n",
    "\n",
    "from pyspark.ml.classification import LogisticRegression\n",
    "from pyspark.ml.tuning import ParamGridBuilder, CrossValidator\n",
    "from pyspark.ml.evaluation import BinaryClassificationEvaluator\n",
    "from pyspark.mllib.evaluation import BinaryClassificationMetrics\n",
    "#from mmlspark import ComputeModelStatistics\n",
    "\n",
    "# Crear el model inicial de regresion logistiva\n",
    "lr = LogisticRegression(labelCol=\"BinaryQuality\", featuresCol=\"features\")\n",
    "# crear grilla para probar el modelo \n",
    "lrparamGrid = (ParamGridBuilder()\n",
    "             .addGrid(lr.maxIter, [15])             \n",
    "             .build())\n",
    "\n",
    "# Evaluar el model\n",
    "dtevaluator = BinaryClassificationEvaluator()\n",
    "dtevaluator.setRawPredictionCol(\"prediction\")\n",
    "dtevaluator.setLabelCol(\"BinaryQuality\")\n",
    "\n",
    "\n",
    "# Create 5-fold CrossValidator\n",
    "dtcv = CrossValidator(estimator = lr, estimatorParamMaps = lrparamGrid,evaluator = dtevaluator,numFolds = 5)#\n",
    "\n",
    "# Run cross validations\n",
    "dtcvModel = dtcv.fit(trainDF)\n",
    "predictions = dtcvModel.transform(testDF)\n",
    "\n",
    "print(dtcvModel)\n",
    "\n",
    "print(\"****Evaluar Underfitting / Overfitting del modelo****\")\n",
    "print(\"dtpredictionsTrain\")\n",
    "dtpredictionsTrain = dtcvModel.transform(trainDF)\n",
    "print(\"areaUnderROC Train\",dtevaluator.evaluate(dtpredictionsTrain, {dtevaluator.metricName: \"areaUnderROC\"}))\n",
    "print(\"******************************************************\")\n",
    "\n",
    "print(\"dtpredictionsTest\")\n",
    "dtpredictionsTest = dtcvModel.transform(testDF)\n",
    "print(\"areaUnderROC Test\",dtevaluator.evaluate(dtpredictionsTest, {dtevaluator.metricName: \"areaUnderROC\"}))\n",
    "print(\"******************************************************\")\n",
    "\n",
    "\n",
    "predictionsDF2 = dtpredictionsTest\n"
   ]
  },
  {
   "cell_type": "markdown",
   "metadata": {},
   "source": [
    "Se observa que el modelo se entrenó de manera correcta puesto que los valores de areaUnderROC para Training y Validación son muy cercanos, lo cual significa que no hubo overfitting ni underfitting. \n",
    "\n",
    "Escritura de la tabla **modelo2** a la base de datos"
   ]
  },
  {
   "cell_type": "code",
   "execution_count": 51,
   "metadata": {},
   "outputs": [
    {
     "name": "stdout",
     "output_type": "stream",
     "text": [
      "['fixed_acidity', 'volatile_acidity', 'citric_acid', 'residual_sugar', 'chlorides', 'free_sulfur_dioxide', 'total_sulfur_dioxide', 'density', 'pH', 'sulphates', 'alcohol']\n",
      "+------------------+-----------------+------------------+------------------+------------------+-------------------+--------------------+-----------------+-----------------+------------------+------------------+-------------+----------+\n",
      "|     fixed_acidity| volatile_acidity|       citric_acid|    residual_sugar|         chlorides|free_sulfur_dioxide|total_sulfur_dioxide|          density|               pH|         sulphates|           alcohol|BinaryQuality|prediction|\n",
      "+------------------+-----------------+------------------+------------------+------------------+-------------------+--------------------+-----------------+-----------------+------------------+------------------+-------------+----------+\n",
      "|3.2163642222241644|3.685921584049102|               0.0|  1.77314011441494|1.4023069442176455| 0.6692060186289293| 0.45599185409754656| 525.905520951013|22.79992629044132|3.4216879021789866|12.105087729867288|            0|       1.0|\n",
      "|3.5035396040990325|3.937234169668316|0.5133440330337092|1.9859168943247691|1.7210130822946599| 1.2428111774537256|  0.8511847943154203|527.8924316585733|23.31810594203861| 3.893645120961519| 9.571464820698306|            0|       0.0|\n",
      "| 3.560974625699649|2.178044405954744|2.2073793458696604| 1.418512091531952| 1.508542376344332| 1.3384120372578585|  0.7295869665560745|526.8168331450772|22.34651909529369|  5.13253202908615| 10.50984374223555|            1|       1.0|\n",
      "+------------------+-----------------+------------------+------------------+------------------+-------------------+--------------------+-----------------+-----------------+------------------+------------------+-------------+----------+\n",
      "only showing top 3 rows\n",
      "\n"
     ]
    }
   ],
   "source": [
    "from pyspark.ml.functions import vector_to_array\n",
    "\n",
    "features_col_names = WineQualityDF.drop(\"BinaryQuality\").schema.names\n",
    "print(features_col_names)\n",
    "\n",
    "\n",
    "ExpandedDFtoDB = (predictionsDF2.drop(\"rawPrediction\",\"probability\").withColumn(\"xs\", vector_to_array(\"features\")))\\\n",
    "    .select([col(\"xs\")[i].alias(features_col_names[i]) for i in range(11)]+[\"BinaryQuality\"]+[\"prediction\"])\n",
    "\n",
    "\n",
    "ExpandedDFtoDB.show(n=3)\n",
    "\n",
    "# Almacenar el conjunto de datos limpio en la base de datos\n",
    "ExpandedDFtoDB \\\n",
    "    .write \\\n",
    "    .format(\"jdbc\") \\\n",
    "    .mode('overwrite') \\\n",
    "    .option(\"url\", \"jdbc:postgresql://host.docker.internal:5433/postgres\") \\\n",
    "    .option(\"user\", \"postgres\") \\\n",
    "    .option(\"password\", \"testPassword\") \\\n",
    "    .option(\"dbtable\", \"modelo2\") \\\n",
    "    .save()"
   ]
  },
  {
   "cell_type": "markdown",
   "metadata": {},
   "source": [
    "### Análisis de resultados\n",
    "\n",
    "Basado en la matriz de decisión generada en las siguientes secciones de código se observa que el modelo de Regresión logística tiene más Falsos negativos en comparación con el modelo de arbol de decisión. Ambos modelos tiene una taza de acierto similar.  "
   ]
  },
  {
   "cell_type": "markdown",
   "metadata": {},
   "source": [
    "**Matriz de confusión Arbol de decisión**"
   ]
  },
  {
   "cell_type": "code",
   "execution_count": 54,
   "metadata": {},
   "outputs": [
    {
     "name": "stderr",
     "output_type": "stream",
     "text": [
      "No handles with labels found to put in legend.\n"
     ]
    },
    {
     "name": "stdout",
     "output_type": "stream",
     "text": [
      "size 162\n"
     ]
    },
    {
     "data": {
      "image/png": "[encoded data removed]",
      "text/plain": [
       "<Figure size 432x288 with 1 Axes>"
      ]
     },
     "metadata": {
      "needs_background": "light"
     },
     "output_type": "display_data"
    }
   ],
   "source": [
    "import pandas as pd\n",
    "import matplotlib.pyplot as plt\n",
    "import seaborn as sn\n",
    "pandasDF1 = predictionsDF1.drop(\"features\",\"rawPrediction\",\"probability\").toPandas()\n",
    "pandasDF1.head()\n",
    "print(\"size\" ,len(pandasDF1.index))\n",
    "\n",
    "y_true = pandasDF1[\"BinaryQuality\"]\n",
    "y_pred = pandasDF1[\"prediction\"]\n",
    "\n",
    "\n",
    "confusion_matrix = pd.crosstab(y_true, y_pred, rownames=['Actual'], colnames=['Predicted'])\n",
    "\n",
    "plt.clf()\n",
    "\n",
    "ax = fig.add_subplot(111)\n",
    "\n",
    "ax.set_aspect(1)\n",
    "\n",
    "res = sn.heatmap(confusion_matrix.T, annot=True, fmt='.2f', cmap=\"YlGnBu\", cbar=False,annot_kws={\"fontsize\":20})\n",
    "ax.legend( fontsize=20)\n",
    "\n",
    "\n",
    "\n",
    "plt.show()"
   ]
  },
  {
   "cell_type": "markdown",
   "metadata": {},
   "source": [
    "**Matriz de confusión Regresión logística**"
   ]
  },
  {
   "cell_type": "code",
   "execution_count": 53,
   "metadata": {},
   "outputs": [
    {
     "name": "stderr",
     "output_type": "stream",
     "text": [
      "No handles with labels found to put in legend.\n"
     ]
    },
    {
     "name": "stdout",
     "output_type": "stream",
     "text": [
      "size 162\n"
     ]
    },
    {
     "data": {
      "image/png": "[encoded data removed]",
      "text/plain": [
       "<Figure size 432x288 with 1 Axes>"
      ]
     },
     "metadata": {
      "needs_background": "light"
     },
     "output_type": "display_data"
    }
   ],
   "source": [
    "import pandas as pd\n",
    "import matplotlib.pyplot as plt\n",
    "import seaborn as sn\n",
    "pandasDF2 = predictionsDF2.drop(\"features\",\"rawPrediction\",\"probability\").toPandas()\n",
    "pandasDF2.head()\n",
    "print(\"size\" ,len(pandasDF1.index))\n",
    "\n",
    "y_true = pandasDF2[\"BinaryQuality\"]\n",
    "y_pred = pandasDF2[\"prediction\"]\n",
    "\n",
    "\n",
    "confusion_matrix = pd.crosstab(y_true, y_pred, rownames=['Actual'], colnames=['Predicted'])\n",
    "\n",
    "plt.clf()\n",
    "\n",
    "ax = fig.add_subplot(111)\n",
    "\n",
    "ax.set_aspect(1)\n",
    "\n",
    "res = sn.heatmap(confusion_matrix.T, annot=True, fmt='.2f', cmap=\"YlGnBu\", cbar=False,annot_kws={\"fontsize\":20})\n",
    "ax.legend( fontsize=20)\n",
    "\n",
    "\n",
    "\n",
    "plt.show()"
   ]
  },
  {
   "cell_type": "code",
   "execution_count": null,
   "metadata": {},
   "outputs": [],
   "source": []
  }
 ],
 "metadata": {
  "celltoolbar": "Edit Metadata",
  "colab": {
   "name": "BigData-Leccion5.ipynb",
   "provenance": []
  },
  "kernelspec": {
   "display_name": "Python 3 (ipykernel)",
   "language": "python",
   "name": "python3"
  },
  "language_info": {
   "codemirror_mode": {
    "name": "ipython",
    "version": 3
   },
   "file_extension": ".py",
   "mimetype": "text/x-python",
   "name": "python",
   "nbconvert_exporter": "python",
   "pygments_lexer": "ipython3",
   "version": "3.7.10"
  }
 },
 "nbformat": 4,
 "nbformat_minor": 1
}
